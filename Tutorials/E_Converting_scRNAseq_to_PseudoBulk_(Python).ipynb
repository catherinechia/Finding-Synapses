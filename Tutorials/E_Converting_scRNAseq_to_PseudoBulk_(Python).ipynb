{
 "cells": [
  {
   "attachments": {},
   "cell_type": "markdown",
   "id": "e3acaeb4",
   "metadata": {},
   "source": [
    "### Overview\n",
    "This notebook converts an scRNA-seq file (that is not used in any prior steps) to a pseudo-bulk RNA-seq via aggregated summation of gene expressions. Method via aggregation by mean is also provided in the code.\n",
    "\n",
    "The pseudo-bulk RNA-seq will be exported to a format suitable to be used in CIBERSORTx [3]. \n",
    "\n",
    "**This notebook is written in Python.**"
   ]
  },
  {
   "cell_type": "code",
   "execution_count": 1,
   "id": "64017965",
   "metadata": {
    "execution": {
     "iopub.execute_input": "2022-12-31T15:29:20.050906Z",
     "iopub.status.busy": "2022-12-31T15:29:20.050212Z",
     "iopub.status.idle": "2022-12-31T15:29:21.711866Z",
     "shell.execute_reply": "2022-12-31T15:29:21.711196Z"
    }
   },
   "outputs": [],
   "source": [
    "#Libraries and global settings\n",
    "import scanpy as sc\n",
    "import pandas as pd\n",
    "\n",
    "%matplotlib inline "
   ]
  },
  {
   "attachments": {},
   "cell_type": "markdown",
   "id": "0cda28d3",
   "metadata": {},
   "source": [
    "#### Import scRNA-seq "
   ]
  },
  {
   "cell_type": "code",
   "execution_count": 2,
   "id": "e76e50bf",
   "metadata": {
    "execution": {
     "iopub.execute_input": "2022-12-31T15:29:21.715876Z",
     "iopub.status.busy": "2022-12-31T15:29:21.715499Z",
     "iopub.status.idle": "2022-12-31T15:29:21.951550Z",
     "shell.execute_reply": "2022-12-31T15:29:21.950722Z"
    }
   },
   "outputs": [],
   "source": [
    "#Import scRNA-seq \n",
    "path =\"../../data/demo_public/input/AllenBrain_for_bulk.h5ad\"\n",
    "adata_bulk = sc.read(path, cache=True)"
   ]
  },
  {
   "attachments": {},
   "cell_type": "markdown",
   "id": "a65de81d",
   "metadata": {},
   "source": [
    "#### Convert scRNA-seq to pseudo-bulk RNA-seq"
   ]
  },
  {
   "cell_type": "code",
   "execution_count": 3,
   "id": "c23b974a",
   "metadata": {
    "execution": {
     "iopub.execute_input": "2022-12-31T15:29:21.956623Z",
     "iopub.status.busy": "2022-12-31T15:29:21.956298Z",
     "iopub.status.idle": "2022-12-31T15:29:21.982521Z",
     "shell.execute_reply": "2022-12-31T15:29:21.981948Z"
    }
   },
   "outputs": [
    {
     "data": {
      "text/html": [
       "<div>\n",
       "<style scoped>\n",
       "    .dataframe tbody tr th:only-of-type {\n",
       "        vertical-align: middle;\n",
       "    }\n",
       "\n",
       "    .dataframe tbody tr th {\n",
       "        vertical-align: top;\n",
       "    }\n",
       "\n",
       "    .dataframe thead th {\n",
       "        text-align: right;\n",
       "    }\n",
       "</style>\n",
       "<table border=\"1\" class=\"dataframe\">\n",
       "  <thead>\n",
       "    <tr style=\"text-align: right;\">\n",
       "      <th></th>\n",
       "      <th>446701</th>\n",
       "      <th>410107</th>\n",
       "      <th>446701</th>\n",
       "      <th>446701</th>\n",
       "      <th>446701</th>\n",
       "      <th>410108</th>\n",
       "      <th>410108</th>\n",
       "      <th>446701</th>\n",
       "      <th>410107</th>\n",
       "      <th>446701</th>\n",
       "      <th>...</th>\n",
       "      <th>446701</th>\n",
       "      <th>410107</th>\n",
       "      <th>410107</th>\n",
       "      <th>410107</th>\n",
       "      <th>446701</th>\n",
       "      <th>410107</th>\n",
       "      <th>410107</th>\n",
       "      <th>446701</th>\n",
       "      <th>410107</th>\n",
       "      <th>410107</th>\n",
       "    </tr>\n",
       "  </thead>\n",
       "  <tbody>\n",
       "    <tr>\n",
       "      <th>Xkr4</th>\n",
       "      <td>7.0</td>\n",
       "      <td>3.0</td>\n",
       "      <td>3.0</td>\n",
       "      <td>13.0</td>\n",
       "      <td>15.0</td>\n",
       "      <td>14.0</td>\n",
       "      <td>24.0</td>\n",
       "      <td>4.0</td>\n",
       "      <td>2.0</td>\n",
       "      <td>12.0</td>\n",
       "      <td>...</td>\n",
       "      <td>5.0</td>\n",
       "      <td>3.0</td>\n",
       "      <td>8.0</td>\n",
       "      <td>4.0</td>\n",
       "      <td>9.0</td>\n",
       "      <td>0.0</td>\n",
       "      <td>16.0</td>\n",
       "      <td>12.0</td>\n",
       "      <td>6.0</td>\n",
       "      <td>0.0</td>\n",
       "    </tr>\n",
       "    <tr>\n",
       "      <th>Gm1992</th>\n",
       "      <td>0.0</td>\n",
       "      <td>1.0</td>\n",
       "      <td>0.0</td>\n",
       "      <td>0.0</td>\n",
       "      <td>0.0</td>\n",
       "      <td>0.0</td>\n",
       "      <td>0.0</td>\n",
       "      <td>0.0</td>\n",
       "      <td>0.0</td>\n",
       "      <td>0.0</td>\n",
       "      <td>...</td>\n",
       "      <td>0.0</td>\n",
       "      <td>0.0</td>\n",
       "      <td>0.0</td>\n",
       "      <td>0.0</td>\n",
       "      <td>0.0</td>\n",
       "      <td>0.0</td>\n",
       "      <td>0.0</td>\n",
       "      <td>0.0</td>\n",
       "      <td>0.0</td>\n",
       "      <td>0.0</td>\n",
       "    </tr>\n",
       "    <tr>\n",
       "      <th>Gm37381</th>\n",
       "      <td>0.0</td>\n",
       "      <td>0.0</td>\n",
       "      <td>0.0</td>\n",
       "      <td>0.0</td>\n",
       "      <td>0.0</td>\n",
       "      <td>0.0</td>\n",
       "      <td>0.0</td>\n",
       "      <td>0.0</td>\n",
       "      <td>0.0</td>\n",
       "      <td>0.0</td>\n",
       "      <td>...</td>\n",
       "      <td>0.0</td>\n",
       "      <td>0.0</td>\n",
       "      <td>0.0</td>\n",
       "      <td>0.0</td>\n",
       "      <td>0.0</td>\n",
       "      <td>0.0</td>\n",
       "      <td>0.0</td>\n",
       "      <td>0.0</td>\n",
       "      <td>0.0</td>\n",
       "      <td>0.0</td>\n",
       "    </tr>\n",
       "    <tr>\n",
       "      <th>Rp1</th>\n",
       "      <td>0.0</td>\n",
       "      <td>0.0</td>\n",
       "      <td>0.0</td>\n",
       "      <td>0.0</td>\n",
       "      <td>0.0</td>\n",
       "      <td>0.0</td>\n",
       "      <td>0.0</td>\n",
       "      <td>0.0</td>\n",
       "      <td>0.0</td>\n",
       "      <td>0.0</td>\n",
       "      <td>...</td>\n",
       "      <td>0.0</td>\n",
       "      <td>0.0</td>\n",
       "      <td>0.0</td>\n",
       "      <td>0.0</td>\n",
       "      <td>0.0</td>\n",
       "      <td>0.0</td>\n",
       "      <td>0.0</td>\n",
       "      <td>0.0</td>\n",
       "      <td>0.0</td>\n",
       "      <td>0.0</td>\n",
       "    </tr>\n",
       "    <tr>\n",
       "      <th>Sox17</th>\n",
       "      <td>0.0</td>\n",
       "      <td>0.0</td>\n",
       "      <td>0.0</td>\n",
       "      <td>0.0</td>\n",
       "      <td>0.0</td>\n",
       "      <td>0.0</td>\n",
       "      <td>0.0</td>\n",
       "      <td>0.0</td>\n",
       "      <td>0.0</td>\n",
       "      <td>0.0</td>\n",
       "      <td>...</td>\n",
       "      <td>0.0</td>\n",
       "      <td>0.0</td>\n",
       "      <td>0.0</td>\n",
       "      <td>0.0</td>\n",
       "      <td>0.0</td>\n",
       "      <td>0.0</td>\n",
       "      <td>0.0</td>\n",
       "      <td>0.0</td>\n",
       "      <td>0.0</td>\n",
       "      <td>0.0</td>\n",
       "    </tr>\n",
       "  </tbody>\n",
       "</table>\n",
       "<p>5 rows × 8105 columns</p>\n",
       "</div>"
      ],
      "text/plain": [
       "         446701  410107  446701  446701  446701  410108  410108  446701  \\\n",
       "Xkr4        7.0     3.0     3.0    13.0    15.0    14.0    24.0     4.0   \n",
       "Gm1992      0.0     1.0     0.0     0.0     0.0     0.0     0.0     0.0   \n",
       "Gm37381     0.0     0.0     0.0     0.0     0.0     0.0     0.0     0.0   \n",
       "Rp1         0.0     0.0     0.0     0.0     0.0     0.0     0.0     0.0   \n",
       "Sox17       0.0     0.0     0.0     0.0     0.0     0.0     0.0     0.0   \n",
       "\n",
       "         410107  446701  ...  446701  410107  410107  410107  446701  410107  \\\n",
       "Xkr4        2.0    12.0  ...     5.0     3.0     8.0     4.0     9.0     0.0   \n",
       "Gm1992      0.0     0.0  ...     0.0     0.0     0.0     0.0     0.0     0.0   \n",
       "Gm37381     0.0     0.0  ...     0.0     0.0     0.0     0.0     0.0     0.0   \n",
       "Rp1         0.0     0.0  ...     0.0     0.0     0.0     0.0     0.0     0.0   \n",
       "Sox17       0.0     0.0  ...     0.0     0.0     0.0     0.0     0.0     0.0   \n",
       "\n",
       "         410107  446701  410107  410107  \n",
       "Xkr4       16.0    12.0     6.0     0.0  \n",
       "Gm1992      0.0     0.0     0.0     0.0  \n",
       "Gm37381     0.0     0.0     0.0     0.0  \n",
       "Rp1         0.0     0.0     0.0     0.0  \n",
       "Sox17       0.0     0.0     0.0     0.0  \n",
       "\n",
       "[5 rows x 8105 columns]"
      ]
     },
     "execution_count": 3,
     "metadata": {},
     "output_type": "execute_result"
    }
   ],
   "source": [
    "#Get expression matrix\n",
    "d_adata_bulk_exprs = adata_bulk.X\n",
    "l_adata_bulk_genes = adata_bulk.var_names.tolist()\n",
    "l_adata_bulk_sampleid = adata_bulk.obs[\"Allen_sampleID\"].tolist()\n",
    "\n",
    "# Create dataframe and transpose it\n",
    "df_exprs_sampleid = pd.DataFrame(d_adata_bulk_exprs, index = l_adata_bulk_sampleid, columns=l_adata_bulk_genes)\n",
    "df_exprs_sampleid_t = df_exprs_sampleid.transpose()\n",
    "df_exprs_sampleid_t.head()"
   ]
  },
  {
   "cell_type": "code",
   "execution_count": 4,
   "id": "7da5edcd",
   "metadata": {
    "execution": {
     "iopub.execute_input": "2022-12-31T15:29:21.990027Z",
     "iopub.status.busy": "2022-12-31T15:29:21.989723Z",
     "iopub.status.idle": "2022-12-31T15:29:22.757089Z",
     "shell.execute_reply": "2022-12-31T15:29:22.756463Z"
    }
   },
   "outputs": [
    {
     "data": {
      "text/html": [
       "<div>\n",
       "<style scoped>\n",
       "    .dataframe tbody tr th:only-of-type {\n",
       "        vertical-align: middle;\n",
       "    }\n",
       "\n",
       "    .dataframe tbody tr th {\n",
       "        vertical-align: top;\n",
       "    }\n",
       "\n",
       "    .dataframe thead th {\n",
       "        text-align: right;\n",
       "    }\n",
       "</style>\n",
       "<table border=\"1\" class=\"dataframe\">\n",
       "  <thead>\n",
       "    <tr style=\"text-align: right;\">\n",
       "      <th></th>\n",
       "      <th>410107</th>\n",
       "      <th>410108</th>\n",
       "      <th>446701</th>\n",
       "    </tr>\n",
       "  </thead>\n",
       "  <tbody>\n",
       "    <tr>\n",
       "      <th>Xkr4</th>\n",
       "      <td>10713.0</td>\n",
       "      <td>12212.0</td>\n",
       "      <td>24810.0</td>\n",
       "    </tr>\n",
       "    <tr>\n",
       "      <th>Gm1992</th>\n",
       "      <td>305.0</td>\n",
       "      <td>353.0</td>\n",
       "      <td>418.0</td>\n",
       "    </tr>\n",
       "    <tr>\n",
       "      <th>Gm37381</th>\n",
       "      <td>4.0</td>\n",
       "      <td>6.0</td>\n",
       "      <td>6.0</td>\n",
       "    </tr>\n",
       "    <tr>\n",
       "      <th>Rp1</th>\n",
       "      <td>22.0</td>\n",
       "      <td>22.0</td>\n",
       "      <td>39.0</td>\n",
       "    </tr>\n",
       "    <tr>\n",
       "      <th>Sox17</th>\n",
       "      <td>2.0</td>\n",
       "      <td>3.0</td>\n",
       "      <td>19.0</td>\n",
       "    </tr>\n",
       "  </tbody>\n",
       "</table>\n",
       "</div>"
      ],
      "text/plain": [
       "          410107   410108   446701\n",
       "Xkr4     10713.0  12212.0  24810.0\n",
       "Gm1992     305.0    353.0    418.0\n",
       "Gm37381      4.0      6.0      6.0\n",
       "Rp1         22.0     22.0     39.0\n",
       "Sox17        2.0      3.0     19.0"
      ]
     },
     "execution_count": 4,
     "metadata": {},
     "output_type": "execute_result"
    }
   ],
   "source": [
    "#Collapse columns with same name (SampleID). Refer to [4] for a suitable aggregation method. \n",
    "\n",
    "df_exprs_sampleid_t=df_exprs_sampleid_t.groupby(level=0, axis=1).sum()  #aggregation by sum \n",
    "#Comment the line above and uncomment the line below to use aggregation by mean\n",
    "#df_exprs_sampleid_t=df_exprs_sampleid_t.groupby(level=0, axis=1).mean() #aggregation by mean\n",
    "\n",
    "df_exprs_sampleid_t.head()"
   ]
  },
  {
   "attachments": {},
   "cell_type": "markdown",
   "id": "5f5b6a78",
   "metadata": {},
   "source": [
    "#### Export data"
   ]
  },
  {
   "cell_type": "code",
   "execution_count": 5,
   "id": "009e36df",
   "metadata": {
    "execution": {
     "iopub.execute_input": "2022-12-31T15:29:22.761822Z",
     "iopub.status.busy": "2022-12-31T15:29:22.761485Z",
     "iopub.status.idle": "2022-12-31T15:29:22.815940Z",
     "shell.execute_reply": "2022-12-31T15:29:22.815361Z"
    }
   },
   "outputs": [],
   "source": [
    "#Write data\n",
    "path = \"../../data/demo_public/output/cibersortx_pseudobulk.txt\"\n",
    "df_exprs_sampleid_t.to_csv(path, sep='\\t', chunksize=500)"
   ]
  },
  {
   "attachments": {},
   "cell_type": "markdown",
   "id": "e0b1bbe4",
   "metadata": {},
   "source": [
    "##### Reference\n",
    "1. Chia, C. M., Roig Adam, A., & Moro, A. (2022). *In silico* multiple single-subject neural tissue screening using deconvolution on pseudo-bulk RNA-seq - a prototype. Bioinformatics and Systems Biology joint degree program. Vrije Universiteit Amsterdam and University of Amsterdam. \n",
    "\n",
    "2. Allen Institute for Brain Science (2004). Allen Mouse Brain Atlas, Mouse Whole Cortex and Hippocampus 10x. Available from mouse.brain-map.org. Allen Institute for Brain Science (2011).\n",
    "\n",
    "3. Newman, A. M., Liu, C. L., Green, M. R., Gentles, A. J., Feng, W., Xu, Y., Hoang, C. D., Diehn, M., & Alizadeh, A. A. (2015). Robust enumeration of cell subsets from tissue expression profiles. Nature methods, 12(5), 453–457. https://doi.org/10.1038/nmeth.3337\n",
    "\n",
    "4. Junttila, S., Smolander, J., & Elo, L. L. (2022). Benchmarking methods for detecting differential states between conditions from multi-subject single-cell RNA-seq data. Briefings in bioinformatics, 23(5), bbac286. https://doi.org/10.1093/bib/bbac286"
   ]
  }
 ],
 "metadata": {
  "kernelspec": {
   "display_name": "Python 3.9.13 ('rpy2env')",
   "language": "python",
   "name": "python3"
  },
  "language_info": {
   "codemirror_mode": {
    "name": "ipython",
    "version": 3
   },
   "file_extension": ".py",
   "mimetype": "text/x-python",
   "name": "python",
   "nbconvert_exporter": "python",
   "pygments_lexer": "ipython3",
   "version": "3.9.13 | packaged by conda-forge | (main, May 27 2022, 17:00:52) \n[Clang 13.0.1 ]"
  },
  "vscode": {
   "interpreter": {
    "hash": "488af5fec8fdf8c82286ebd3797745cedfd80ce7a1c80c975158a201a49ccec8"
   }
  }
 },
 "nbformat": 4,
 "nbformat_minor": 5
}
