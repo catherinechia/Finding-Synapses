{
 "cells": [
  {
   "attachments": {},
   "cell_type": "markdown",
   "id": "d0f2dfb2",
   "metadata": {},
   "source": [
    "### Overview\n",
    "This notebook imports the extracted data from the unannotated scRNA-seq (publicly available dataset [2]) and reference to perform single-cell annotation using scmap [3]. \n",
    "\n",
    "**This notebook is written in R.**"
   ]
  },
  {
   "cell_type": "code",
   "execution_count": 1,
   "id": "d02e0f7b",
   "metadata": {
    "execution": {
     "iopub.execute_input": "2022-12-31T15:01:33.319890Z",
     "iopub.status.busy": "2022-12-31T15:01:33.318378Z",
     "iopub.status.idle": "2022-12-31T15:01:33.353845Z",
     "shell.execute_reply": "2022-12-31T15:01:33.352449Z"
    },
    "vscode": {
     "languageId": "r"
    }
   },
   "outputs": [],
   "source": [
    ".libPaths('/home/chiacmm/rpackages')"
   ]
  },
  {
   "cell_type": "code",
   "execution_count": null,
   "id": "213df240",
   "metadata": {
    "execution": {
     "iopub.execute_input": "2022-12-31T15:01:33.380902Z",
     "iopub.status.busy": "2022-12-31T15:01:33.358278Z",
     "iopub.status.idle": "2022-12-31T15:01:39.085608Z",
     "shell.execute_reply": "2022-12-31T15:01:39.084506Z"
    },
    "vscode": {
     "languageId": "r"
    }
   },
   "outputs": [],
   "source": [
    "#Libraries and global setting\n",
    "\n",
    "library(SingleCellExperiment)\n",
    "library(scmap)\n",
    "library(scran)\n",
    "library(base) #it failed without loading base once on rpy2env\n",
    "library(tools)\n",
    "library(\"data.table\")\n",
    "\n",
    "# Seed\n",
    "set.seed(4) #For reproducibility"
   ]
  },
  {
   "attachments": {},
   "cell_type": "markdown",
   "id": "90cb385e",
   "metadata": {},
   "source": [
    "### Steps performed\n",
    "\n",
    "1. Import the query data (unannotated scRNA-seq)\n",
    "\n",
    "2. Import the reference data (to be used in annotating the query data)\n",
    "\n",
    "3. Convert query and reference data to SingleCellExperiment format\n",
    "\n",
    "4. scmap: \n",
    "- set the HVG as features\n",
    "- calculate indices for each cell in reference\n",
    "- project reference to query set\n",
    "- cluster-annotate query cells\n",
    "\n",
    "5. Export annotation results"
   ]
  },
  {
   "attachments": {},
   "cell_type": "markdown",
   "id": "6c9b9ae3",
   "metadata": {},
   "source": [
    "#### Import the query data (unannotated scRNA-seq)"
   ]
  },
  {
   "cell_type": "code",
   "execution_count": 3,
   "id": "7a3eb183",
   "metadata": {
    "execution": {
     "iopub.execute_input": "2022-12-31T15:01:39.090939Z",
     "iopub.status.busy": "2022-12-31T15:01:39.089974Z",
     "iopub.status.idle": "2022-12-31T15:01:44.961567Z",
     "shell.execute_reply": "2022-12-31T15:01:44.959981Z"
    },
    "vscode": {
     "languageId": "r"
    }
   },
   "outputs": [
    {
     "name": "stdout",
     "output_type": "stream",
     "text": [
      "  OpenMP version (_OPENMP)       201511\n",
      "  omp_get_num_procs()            16\n",
      "  R_DATATABLE_NUM_PROCS_PERCENT  unset (default 50)\n",
      "  R_DATATABLE_NUM_THREADS        unset\n",
      "  R_DATATABLE_THROTTLE           unset (default 1024)\n",
      "  omp_get_thread_limit()         2147483647\n",
      "  omp_get_max_threads()          16\n",
      "  OMP_THREAD_LIMIT               unset\n",
      "  OMP_NUM_THREADS                unset\n",
      "  RestoreAfterFork               true\n",
      "  data.table is using 8 threads with throttle==1024. See ?setDTthreads.\n",
      "Input contains no \\n. Taking this to be a filename to open\n",
      "[01] Check arguments\n",
      "  Using 8 threads (omp_get_max_threads()=16, nth=8)\n",
      "  NAstrings = [<<NA>>]\n",
      "  None of the NAstrings look like numbers.\n",
      "  show progress = 0\n",
      "  0/1 column will be read as integer\n",
      "[02] Opening the file\n",
      "  Opening file ../../data/demo_public/output/que_exprs.csv\n",
      "  File opened, size = 576MB (604675621 bytes).\n",
      "  Memory mapped ok\n",
      "[03] Detect and skip BOM\n",
      "[04] Arrange mmap to be \\0 terminated\n",
      "  \\n has been found in the input and different lines can end with different line endings (e.g. mixed \\n and \\r\\n in one file). This is common and ideal.\n",
      "[05] Skipping initial rows if needed\n",
      "  Positioned on line 1 starting: <<0,1,2,3,4,5,6,7,8,9,10,11,12,1>>\n",
      "[06] Detect separator, quoting rule, and ncolumns\n",
      "  Detecting sep automatically ...\n",
      "  sep=','  with 100 lines of 4053 fields using quote rule 0\n",
      "  Detected 4053 columns on line 1. This line is either column names or first data row. Line starts as: <<0,1,2,3,4,5,6,7,8,9,10,11,12,1>>\n",
      "  Quote rule picked = 0\n",
      "  fill=false and the most number of columns found is 4053\n",
      "[07] Detect column types, good nrow estimate and whether first row is column names\n",
      "  'header' changed by user from 'auto' to true\n",
      "  Number of sampling jump points = 100 because (604675620 bytes from row 1 to eof) / (2 * 2093161 jump0size) == 144\n",
      "  Type codes (jump 000)    : 77777777777777777777777777777777777777777777777777777777777777777777777777777777...7777777777  Quote rule 0\n",
      "  Type codes (jump 100)    : 77777777777777777777777777777777777777777777777777777777777777777777777777777777...7777777777  Quote rule 0\n",
      "  =====\n",
      "  Sampled 10062 rows (handled \\n inside quoted fields) at 101 jump points\n",
      "  Bytes from first data row on line 2 to the end of last row: 604656465\n",
      "  Line length: mean=19472.17 sd=5552.87 min=16212 max=39366\n",
      "  Estimated number of rows: 604656465 / 19472.17 = 31053\n",
      "  Initial alloc = 37296 rows (31053 + 20%) using bytes/max(mean-2*sd,min) clamped between [1.1*estn, 2.0*estn]\n",
      "  =====\n",
      "[08] Assign column names\n",
      "[09] Apply user overrides on column types\n",
      "  After 0 type and 0 drop user overrides : 77777777777777777777777777777777777777777777777777777777777777777777777777777777...7777777777\n",
      "[10] Allocate memory for the datatable\n",
      "  Allocating 4053 column slots (4053 - 0 dropped) with 37296 rows\n",
      "[11] Read the data\n",
      "  jumps=[0..32), chunk_size=18895514, total_size=604656465\n",
      "Read 31053 rows x 4053 columns from 576MB (604675621 bytes) file in 00:05.807 wall clock time\n",
      "[12] Finalizing the datatable\n",
      "  Type counts:\n",
      "      4053 : float64   '7'\n",
      "=============================\n",
      "   0.000s (  0%) Memory map 0.563GB file\n",
      "   0.968s ( 17%) sep=',' ncol=4053 and header detection\n",
      "   0.001s (  0%) Column type detection using 10062 sample rows\n",
      "   4.530s ( 78%) Allocation of 37296 rows x 4053 cols (1.126GB) of which 31053 ( 83%) rows used\n",
      "   0.308s (  5%) Reading 32 chunks (0 swept) of 18.020MB (each chunk 970 rows) using 8 threads\n",
      "   +    0.208s (  4%) Parse to row-major thread buffers (grown 0 times)\n",
      "   +    0.094s (  2%) Transpose\n",
      "   +    0.006s (  0%) Waiting\n",
      "   0.000s (  0%) Rereading 0 columns due to out-of-sample type exceptions\n",
      "   5.807s        Total\n"
     ]
    }
   ],
   "source": [
    "#Import query data\n",
    "fullpath_data_que_geneexpr <- \"../../data/demo_public/output/que_exprs.csv\"\n",
    "fullpath_data_que_cellID <- \"../../data/demo_public/output/que_lcellID.csv\"\n",
    "fullpath_data_que_genes <- \"../../data/demo_public/output/que_lgenes.csv\"\n",
    "fullpath_data_que_hvg_genes <- \"../../data/demo_public/output/que_l_hvg_genes.csv\"\n",
    "\n",
    "#Read query data\n",
    "df_geneexprs_nomlog_que <- fread(file=fullpath_data_que_geneexpr, header=TRUE, verbose=TRUE)\n",
    "l_cellID_que <- read.csv(fullpath_data_que_cellID,stringsAsFactors = F,header=TRUE,fill = F)\n",
    "l_genes_que <- read.csv(fullpath_data_que_genes,stringsAsFactors = F,header=TRUE,fill = F)\n",
    "l_hvggenes_que <- read.csv(fullpath_data_que_hvg_genes,stringsAsFactors = F,header=TRUE,fill = F)"
   ]
  },
  {
   "attachments": {},
   "cell_type": "markdown",
   "id": "cced5cc9",
   "metadata": {},
   "source": [
    "#### Import the reference data (to be used in annotating the query data)"
   ]
  },
  {
   "cell_type": "code",
   "execution_count": 4,
   "id": "e144e8f7",
   "metadata": {
    "execution": {
     "iopub.execute_input": "2022-12-31T15:01:44.966741Z",
     "iopub.status.busy": "2022-12-31T15:01:44.965492Z",
     "iopub.status.idle": "2022-12-31T15:01:47.509396Z",
     "shell.execute_reply": "2022-12-31T15:01:47.508841Z"
    },
    "vscode": {
     "languageId": "r"
    }
   },
   "outputs": [
    {
     "name": "stdout",
     "output_type": "stream",
     "text": [
      "  OpenMP version (_OPENMP)       201511\n",
      "  omp_get_num_procs()            16\n",
      "  R_DATATABLE_NUM_PROCS_PERCENT  unset (default 50)\n",
      "  R_DATATABLE_NUM_THREADS        unset\n",
      "  R_DATATABLE_THROTTLE           unset (default 1024)\n",
      "  omp_get_thread_limit()         2147483647\n",
      "  omp_get_max_threads()          16\n",
      "  OMP_THREAD_LIMIT               unset\n",
      "  OMP_NUM_THREADS                unset\n",
      "  RestoreAfterFork               true\n",
      "  data.table is using 8 threads with throttle==1024. See ?setDTthreads.\n",
      "Input contains no \\n. Taking this to be a filename to open\n",
      "[01] Check arguments\n",
      "  Using 8 threads (omp_get_max_threads()=16, nth=8)\n",
      "  NAstrings = [<<NA>>]\n",
      "  None of the NAstrings look like numbers.\n",
      "  show progress = 0\n",
      "  0/1 column will be read as integer\n",
      "[02] Opening the file\n",
      "  Opening file ../../data/demo_public/output/ref_exprs.csv\n",
      "  File opened, size = 576MB (604364453 bytes).\n",
      "  Memory mapped ok\n",
      "[03] Detect and skip BOM\n",
      "[04] Arrange mmap to be \\0 terminated\n",
      "  \\n has been found in the input and different lines can end with different line endings (e.g. mixed \\n and \\r\\n in one file). This is common and ideal.\n",
      "[05] Skipping initial rows if needed\n",
      "  Positioned on line 1 starting: <<0,1,2,3,4,5,6,7,8,9,10,11,12,1>>\n",
      "[06] Detect separator, quoting rule, and ncolumns\n",
      "  Detecting sep automatically ...\n",
      "  sep=','  with 100 lines of 4052 fields using quote rule 0\n",
      "  Detected 4052 columns on line 1. This line is either column names or first data row. Line starts as: <<0,1,2,3,4,5,6,7,8,9,10,11,12,1>>\n",
      "  Quote rule picked = 0\n",
      "  fill=false and the most number of columns found is 4052\n",
      "[07] Detect column types, good nrow estimate and whether first row is column names\n",
      "  'header' changed by user from 'auto' to true\n",
      "  Number of sampling jump points = 100 because (604364452 bytes from row 1 to eof) / (2 * 2093699 jump0size) == 144\n",
      "  Type codes (jump 000)    : 77777777777777777777777777777777777777777777777777777777777777777777777777777777...7777777777  Quote rule 0\n",
      "  Type codes (jump 100)    : 77777777777777777777777777777777777777777777777777777777777777777777777777777777...7777777777  Quote rule 0\n",
      "  =====\n",
      "  Sampled 10062 rows (handled \\n inside quoted fields) at 101 jump points\n",
      "  Bytes from first data row on line 2 to the end of last row: 604345302\n",
      "  Line length: mean=19463.18 sd=5543.77 min=16208 max=39243\n",
      "  Estimated number of rows: 604345302 / 19463.18 = 31051\n",
      "  Initial alloc = 37286 rows (31051 + 20%) using bytes/max(mean-2*sd,min) clamped between [1.1*estn, 2.0*estn]\n",
      "  =====\n",
      "[08] Assign column names\n",
      "[09] Apply user overrides on column types\n",
      "  After 0 type and 0 drop user overrides : 77777777777777777777777777777777777777777777777777777777777777777777777777777777...7777777777\n",
      "[10] Allocate memory for the datatable\n",
      "  Allocating 4052 column slots (4052 - 0 dropped) with 37286 rows\n",
      "[11] Read the data\n",
      "  jumps=[0..32), chunk_size=18885790, total_size=604345302\n",
      "Read 31053 rows x 4052 columns from 576MB (604364453 bytes) file in 00:02.488 wall clock time\n",
      "[12] Finalizing the datatable\n",
      "  Type counts:\n",
      "      4052 : float64   '7'\n",
      "=============================\n",
      "   0.000s (  0%) Memory map 0.563GB file\n",
      "   0.936s ( 38%) sep=',' ncol=4052 and header detection\n",
      "   0.000s (  0%) Column type detection using 10062 sample rows\n",
      "   1.251s ( 50%) Allocation of 37286 rows x 4052 cols (1.126GB) of which 31053 ( 83%) rows used\n",
      "   0.300s ( 12%) Reading 32 chunks (0 swept) of 18.011MB (each chunk 970 rows) using 8 threads\n",
      "   +    0.210s (  8%) Parse to row-major thread buffers (grown 0 times)\n",
      "   +    0.085s (  3%) Transpose\n",
      "   +    0.005s (  0%) Waiting\n",
      "   0.000s (  0%) Rereading 0 columns due to out-of-sample type exceptions\n",
      "   2.488s        Total\n"
     ]
    }
   ],
   "source": [
    "#Import reference data\n",
    "fullpath_data_ref_geneexpr <- \"../../data/demo_public/output/ref_exprs.csv\"\n",
    "fullpath_data_ref_cellID <- \"../../data/demo_public/output/ref_lcellID.csv\"\n",
    "fullpath_data_ref_genes <- \"../../data/demo_public/output/ref_lgenes.csv\"\n",
    "fullpath_data_ref_hvg_genes <- \"../../data/demo_public/output/ref_l_hvg_genes.csv\"\n",
    "fullpath_data_ref_celltype <- \"../../data/demo_public/output/ref_lcelltype.csv\"\n",
    "\n",
    "#Read reference data\n",
    "df_geneexprs_nomlog_ref <- fread(file=fullpath_data_ref_geneexpr, header=TRUE, verbose=TRUE)\n",
    "l_cellID_ref <- read.csv(fullpath_data_ref_cellID,stringsAsFactors = F,header=TRUE,fill = F)\n",
    "l_genes_ref <- read.csv(fullpath_data_ref_genes,stringsAsFactors = F,header=TRUE,fill = F)\n",
    "l_hvggenes_ref <- read.csv(fullpath_data_ref_hvg_genes,stringsAsFactors = F,header=TRUE,fill = F)\n",
    "l_celltype_ref <- read.csv(fullpath_data_ref_celltype,stringsAsFactors = F,header=TRUE,fill = F)"
   ]
  },
  {
   "attachments": {},
   "cell_type": "markdown",
   "id": "1736d957",
   "metadata": {},
   "source": [
    "#### Convert query and reference data to SingleCellExperiment format"
   ]
  },
  {
   "cell_type": "code",
   "execution_count": 5,
   "id": "f4cf933f",
   "metadata": {
    "execution": {
     "iopub.execute_input": "2022-12-31T15:01:47.513216Z",
     "iopub.status.busy": "2022-12-31T15:01:47.512395Z",
     "iopub.status.idle": "2022-12-31T15:01:47.740619Z",
     "shell.execute_reply": "2022-12-31T15:01:47.739625Z"
    },
    "vscode": {
     "languageId": "r"
    }
   },
   "outputs": [],
   "source": [
    "#Create SingleCellExperiment Query\n",
    "rownames(df_geneexprs_nomlog_que) <- l_genes_que[,1]\n",
    "colnames(df_geneexprs_nomlog_que) <- l_cellID_que[,1]\n",
    "sce_que <- SingleCellExperiment(list(logcounts=df_geneexprs_nomlog_que))\n",
    "\n",
    "#Use gene names as feature symbols\n",
    "rowData(sce_que)$feature_symbol <- rownames(sce_que)"
   ]
  },
  {
   "cell_type": "code",
   "execution_count": 6,
   "id": "71149a1f",
   "metadata": {
    "execution": {
     "iopub.execute_input": "2022-12-31T15:01:47.745166Z",
     "iopub.status.busy": "2022-12-31T15:01:47.744252Z",
     "iopub.status.idle": "2022-12-31T15:01:48.046326Z",
     "shell.execute_reply": "2022-12-31T15:01:48.045141Z"
    },
    "vscode": {
     "languageId": "r"
    }
   },
   "outputs": [],
   "source": [
    "#Create SingleCellExperiment Reference # \n",
    "rownames(df_geneexprs_nomlog_ref) <- l_genes_ref[,1]\n",
    "colnames(df_geneexprs_nomlog_ref) <- l_cellID_ref[,1]\n",
    "sce_ref <- SingleCellExperiment(list(logcounts=df_geneexprs_nomlog_ref))\n",
    "\n",
    "#Use gene names as feature symbols\n",
    "rowData(sce_ref)$feature_symbol <- rownames(sce_ref)\n",
    "\n",
    "#Add celltype labels\n",
    "l_list_celltype_ref <- lapply(strsplit(as.character(l_celltype_ref[,1]),split=','),trimws)\n",
    "colData(sce_ref)$cell_type1 <- l_list_celltype_ref"
   ]
  },
  {
   "attachments": {},
   "cell_type": "markdown",
   "id": "8d973c0a",
   "metadata": {},
   "source": [
    "#### scmap begins - set the HVG as features"
   ]
  },
  {
   "cell_type": "code",
   "execution_count": 7,
   "id": "159d3fa5",
   "metadata": {
    "execution": {
     "iopub.execute_input": "2022-12-31T15:01:48.051913Z",
     "iopub.status.busy": "2022-12-31T15:01:48.050730Z",
     "iopub.status.idle": "2022-12-31T15:01:48.356285Z",
     "shell.execute_reply": "2022-12-31T15:01:48.354796Z"
    },
    "vscode": {
     "languageId": "r"
    }
   },
   "outputs": [
    {
     "data": {
      "text/plain": [
       "class: SingleCellExperiment \n",
       "dim: 31053 4053 \n",
       "metadata(0):\n",
       "assays(1): logcounts\n",
       "rownames(31053): Xkr4 Gm1992 ... Vmn2r122 CAAA01147332.1\n",
       "rowData names(2): feature_symbol scmap_features\n",
       "colnames(4053): TGCCAAATCAAAGACA-L8TX_190312_01_C01\n",
       "  TTGTAGGCATGAACCT-L8TX_190312_01_E01 ...\n",
       "  TGCGGGTAGTTACGGG-L8TX_190312_01_H01\n",
       "  TTGCGTCCACACTGCG-L8TX_180907_01_F11\n",
       "colData names(0):\n",
       "reducedDimNames(0):\n",
       "mainExpName: NULL\n",
       "altExpNames(0):"
      ]
     },
     "metadata": {},
     "output_type": "display_data"
    },
    {
     "data": {
      "text/plain": [
       "class: SingleCellExperiment \n",
       "dim: 31053 4052 \n",
       "metadata(0):\n",
       "assays(1): logcounts\n",
       "rownames(31053): Xkr4 Gm1992 ... Vmn2r122 CAAA01147332.1\n",
       "rowData names(2): feature_symbol scmap_features\n",
       "colnames(4052): GGCTCGAAGGAGTTGC-L8TX_180907_01_F11\n",
       "  GGACATTCAGTACACT-L8TX_180907_01_E11 ...\n",
       "  GGAATAAAGTTTCCTT-L8TX_180907_01_F11\n",
       "  CTCGGGATCGCATGGC-L8TX_180907_01_F11\n",
       "colData names(1): cell_type1\n",
       "reducedDimNames(0):\n",
       "mainExpName: NULL\n",
       "altExpNames(0):"
      ]
     },
     "metadata": {},
     "output_type": "display_data"
    }
   ],
   "source": [
    "# Set Features\n",
    "sce_que <- setFeatures(sce_que, features=c(l_hvggenes_que[,1])) \n",
    "#sce_ref <- setFeatures(sce_ref, features=l_hvggenes_ref) #Raised Error in !unlist(lapply(subcentroids, is.null)): invalid argument type\n",
    "sce_ref <- setFeatures(sce_ref, features=c(l_hvggenes_ref[,1])) \n",
    "sce_que\n",
    "sce_ref"
   ]
  },
  {
   "attachments": {},
   "cell_type": "markdown",
   "id": "bcf21cb3",
   "metadata": {},
   "source": [
    "#### Calculate indices for each cell in reference"
   ]
  },
  {
   "cell_type": "code",
   "execution_count": 8,
   "id": "fc8a7339",
   "metadata": {
    "execution": {
     "iopub.execute_input": "2022-12-31T15:01:48.361324Z",
     "iopub.status.busy": "2022-12-31T15:01:48.360364Z",
     "iopub.status.idle": "2022-12-31T15:01:54.843348Z",
     "shell.execute_reply": "2022-12-31T15:01:54.841805Z"
    },
    "vscode": {
     "languageId": "r"
    }
   },
   "outputs": [
    {
     "name": "stderr",
     "output_type": "stream",
     "text": [
      "Parameter M was not provided, will use M = n_features / 10 (if n_features <= 1000), where n_features is the number of selected features, and M = 100 otherwise.\n",
      "\n",
      "Parameter k was not provided, will use k = sqrt(number_of_cells)\n",
      "\n"
     ]
    },
    {
     "data": {
      "text/plain": [
       "   user  system elapsed \n",
       "  5.876   0.154   6.027 "
      ]
     },
     "metadata": {},
     "output_type": "display_data"
    },
    {
     "data": {
      "text/html": [
       "<style>\n",
       ".list-inline {list-style: none; margin:0; padding: 0}\n",
       ".list-inline>li {display: inline-block}\n",
       ".list-inline>li:not(:last-child)::after {content: \"\\00b7\"; padding: 0 .5ex}\n",
       "</style>\n",
       "<ol class=list-inline><li>20</li><li>63</li></ol>\n"
      ],
      "text/latex": [
       "\\begin{enumerate*}\n",
       "\\item 20\n",
       "\\item 63\n",
       "\\end{enumerate*}\n"
      ],
      "text/markdown": [
       "1. 20\n",
       "2. 63\n",
       "\n",
       "\n"
      ],
      "text/plain": [
       "[1] 20 63"
      ]
     },
     "metadata": {},
     "output_type": "display_data"
    },
    {
     "data": {
      "text/html": [
       "100"
      ],
      "text/latex": [
       "100"
      ],
      "text/markdown": [
       "100"
      ],
      "text/plain": [
       "[1] 100"
      ]
     },
     "metadata": {},
     "output_type": "display_data"
    },
    {
     "data": {
      "text/html": [
       "<style>\n",
       ".list-inline {list-style: none; margin:0; padding: 0}\n",
       ".list-inline>li {display: inline-block}\n",
       ".list-inline>li:not(:last-child)::after {content: \"\\00b7\"; padding: 0 .5ex}\n",
       "</style>\n",
       "<ol class=list-inline><li>100</li><li>4052</li></ol>\n"
      ],
      "text/latex": [
       "\\begin{enumerate*}\n",
       "\\item 100\n",
       "\\item 4052\n",
       "\\end{enumerate*}\n"
      ],
      "text/markdown": [
       "1. 100\n",
       "2. 4052\n",
       "\n",
       "\n"
      ],
      "text/plain": [
       "[1]  100 4052"
      ]
     },
     "metadata": {},
     "output_type": "display_data"
    }
   ],
   "source": [
    "#In the scmap-cell index is created by a product quantiser algorithm in a way that every cell in the reference is identified with a set of sub-centroids found via k-means clustering based on a subset of the features.\n",
    "#scmap-cell index consists of two items: ## [1] \"subcentroids\" \"subclusters\"\n",
    "system.time(sce_ref <- indexCell(sce_ref))\n",
    "dim(metadata(sce_ref)$scmap_cell_index$subcentroids[[1]])\n",
    "length(metadata(sce_ref)$scmap_cell_index$subcentroids) \n",
    "dim(metadata(sce_ref)$scmap_cell_index$subclusters)"
   ]
  },
  {
   "attachments": {},
   "cell_type": "markdown",
   "id": "c196cbf5",
   "metadata": {},
   "source": [
    "#### Projection of reference to query set"
   ]
  },
  {
   "cell_type": "code",
   "execution_count": 9,
   "id": "0eb4af1f",
   "metadata": {
    "execution": {
     "iopub.execute_input": "2022-12-31T15:01:54.848008Z",
     "iopub.status.busy": "2022-12-31T15:01:54.847337Z",
     "iopub.status.idle": "2022-12-31T15:02:30.256152Z",
     "shell.execute_reply": "2022-12-31T15:02:30.254922Z"
    },
    "vscode": {
     "languageId": "r"
    }
   },
   "outputs": [
    {
     "data": {
      "text/plain": [
       "   user  system elapsed \n",
       " 34.881   0.086  34.948 "
      ]
     },
     "metadata": {},
     "output_type": "display_data"
    },
    {
     "data": {
      "text/html": [
       "<style>\n",
       ".list-inline {list-style: none; margin:0; padding: 0}\n",
       ".list-inline>li {display: inline-block}\n",
       ".list-inline>li:not(:last-child)::after {content: \"\\00b7\"; padding: 0 .5ex}\n",
       "</style>\n",
       "<ol class=list-inline><li>10</li><li>4053</li></ol>\n"
      ],
      "text/latex": [
       "\\begin{enumerate*}\n",
       "\\item 10\n",
       "\\item 4053\n",
       "\\end{enumerate*}\n"
      ],
      "text/markdown": [
       "1. 10\n",
       "2. 4053\n",
       "\n",
       "\n"
      ],
      "text/plain": [
       "[1]   10 4053"
      ]
     },
     "metadata": {},
     "output_type": "display_data"
    },
    {
     "data": {
      "text/html": [
       "<style>\n",
       ".list-inline {list-style: none; margin:0; padding: 0}\n",
       ".list-inline>li {display: inline-block}\n",
       ".list-inline>li:not(:last-child)::after {content: \"\\00b7\"; padding: 0 .5ex}\n",
       "</style>\n",
       "<ol class=list-inline><li>10</li><li>4053</li></ol>\n"
      ],
      "text/latex": [
       "\\begin{enumerate*}\n",
       "\\item 10\n",
       "\\item 4053\n",
       "\\end{enumerate*}\n"
      ],
      "text/markdown": [
       "1. 10\n",
       "2. 4053\n",
       "\n",
       "\n"
      ],
      "text/plain": [
       "[1]   10 4053"
      ]
     },
     "metadata": {},
     "output_type": "display_data"
    }
   ],
   "source": [
    "#scmapCell_results contains results of projection for each reference dataset in a list:\n",
    "#The cells matrix contains the top 10 (scmap default) cell IDs of the cells of the reference dataset that a given cell of the projection dataset is closest to:\n",
    "#The similarities matrix contains corresponding cosine similarities:\n",
    "system.time(scmapCell_results <- scmapCell(projection=sce_que, index_list=list(Allen=metadata(sce_ref)$scmap_cell_index)))\n",
    "dim(scmapCell_results$Allen$cells)\n",
    "df_scmapCell_results <- data.frame(scmapCell_results$Allen$cells)\n",
    "dim(df_scmapCell_results)"
   ]
  },
  {
   "attachments": {},
   "cell_type": "markdown",
   "id": "64fc5eb8",
   "metadata": {},
   "source": [
    "#### Cluster-annotate query cells"
   ]
  },
  {
   "cell_type": "code",
   "execution_count": 10,
   "id": "c1718b72",
   "metadata": {
    "execution": {
     "iopub.execute_input": "2022-12-31T15:02:30.261471Z",
     "iopub.status.busy": "2022-12-31T15:02:30.260285Z",
     "iopub.status.idle": "2022-12-31T15:02:30.778532Z",
     "shell.execute_reply": "2022-12-31T15:02:30.777654Z"
    },
    "vscode": {
     "languageId": "r"
    }
   },
   "outputs": [
    {
     "data": {
      "text/plain": [
       "   user  system elapsed \n",
       "  0.054   0.000   0.054 "
      ]
     },
     "metadata": {},
     "output_type": "display_data"
    },
    {
     "data": {
      "text/html": [
       "<style>\n",
       ".list-inline {list-style: none; margin:0; padding: 0}\n",
       ".list-inline>li {display: inline-block}\n",
       ".list-inline>li:not(:last-child)::after {content: \"\\00b7\"; padding: 0 .5ex}\n",
       "</style>\n",
       "<ol class=list-inline><li>4053</li><li>1</li></ol>\n"
      ],
      "text/latex": [
       "\\begin{enumerate*}\n",
       "\\item 4053\n",
       "\\item 1\n",
       "\\end{enumerate*}\n"
      ],
      "text/markdown": [
       "1. 4053\n",
       "2. 1\n",
       "\n",
       "\n"
      ],
      "text/plain": [
       "[1] 4053    1"
      ]
     },
     "metadata": {},
     "output_type": "display_data"
    },
    {
     "data": {
      "text/html": [
       "<style>\n",
       ".list-inline {list-style: none; margin:0; padding: 0}\n",
       ".list-inline>li {display: inline-block}\n",
       ".list-inline>li:not(:last-child)::after {content: \"\\00b7\"; padding: 0 .5ex}\n",
       "</style>\n",
       "<ol class=list-inline><li>4053</li><li>1</li></ol>\n"
      ],
      "text/latex": [
       "\\begin{enumerate*}\n",
       "\\item 4053\n",
       "\\item 1\n",
       "\\end{enumerate*}\n"
      ],
      "text/markdown": [
       "1. 4053\n",
       "2. 1\n",
       "\n",
       "\n"
      ],
      "text/plain": [
       "[1] 4053    1"
      ]
     },
     "metadata": {},
     "output_type": "display_data"
    },
    {
     "data": {
      "text/html": [
       "4053"
      ],
      "text/latex": [
       "4053"
      ],
      "text/markdown": [
       "4053"
      ],
      "text/plain": [
       "[1] 4053"
      ]
     },
     "metadata": {},
     "output_type": "display_data"
    },
    {
     "data": {
      "text/html": [
       "<table class=\"dataframe\">\n",
       "<caption>A matrix: 4 × 1 of type chr</caption>\n",
       "<thead>\n",
       "\t<tr><th scope=col>Allen</th></tr>\n",
       "</thead>\n",
       "<tbody>\n",
       "\t<tr><td>Glutamatergic</td></tr>\n",
       "\t<tr><td>Non-Neuronal </td></tr>\n",
       "\t<tr><td>GABAergic    </td></tr>\n",
       "\t<tr><td>unassigned   </td></tr>\n",
       "</tbody>\n",
       "</table>\n"
      ],
      "text/latex": [
       "A matrix: 4 × 1 of type chr\n",
       "\\begin{tabular}{l}\n",
       " Allen\\\\\n",
       "\\hline\n",
       "\t Glutamatergic\\\\\n",
       "\t Non-Neuronal \\\\\n",
       "\t GABAergic    \\\\\n",
       "\t unassigned   \\\\\n",
       "\\end{tabular}\n"
      ],
      "text/markdown": [
       "\n",
       "A matrix: 4 × 1 of type chr\n",
       "\n",
       "| Allen |\n",
       "|---|\n",
       "| Glutamatergic |\n",
       "| Non-Neuronal  |\n",
       "| GABAergic     |\n",
       "| unassigned    |\n",
       "\n"
      ],
      "text/plain": [
       "     Allen        \n",
       "[1,] Glutamatergic\n",
       "[2,] Non-Neuronal \n",
       "[3,] GABAergic    \n",
       "[4,] unassigned   "
      ]
     },
     "metadata": {},
     "output_type": "display_data"
    }
   ],
   "source": [
    "system.time(scmapCell_clusters <- scmapCell2Cluster(scmapCell_results=scmapCell_results, cluster_list=list(as.character(colData(sce_ref)$cell_type1))))\n",
    "dim(scmapCell_clusters$scmap_cluster_labs)\n",
    "dim(scmapCell_clusters$scmap_cluster_siml)\n",
    "length(scmapCell_clusters$combined_labs)\n",
    "unique(unlist(scmapCell_clusters$scmap_cluster_labs, use.names = FALSE))"
   ]
  },
  {
   "attachments": {},
   "cell_type": "markdown",
   "id": "c865bb47",
   "metadata": {},
   "source": [
    "#### Export annotation results"
   ]
  },
  {
   "cell_type": "code",
   "execution_count": 11,
   "id": "a68a3792",
   "metadata": {
    "execution": {
     "iopub.execute_input": "2022-12-31T15:02:30.782677Z",
     "iopub.status.busy": "2022-12-31T15:02:30.781910Z",
     "iopub.status.idle": "2022-12-31T15:02:31.236440Z",
     "shell.execute_reply": "2022-12-31T15:02:31.234960Z"
    },
    "vscode": {
     "languageId": "r"
    }
   },
   "outputs": [
    {
     "data": {
      "text/plain": [
       "   user  system elapsed \n",
       "  0.002   0.000   0.005 "
      ]
     },
     "metadata": {},
     "output_type": "display_data"
    }
   ],
   "source": [
    "# Write data\n",
    "#convert list of lists to data frame\n",
    "df_scmapCell_clusters <- data.frame(l_cellID_que[,1], scmapCell_clusters$scmap_cluster_labs[,1], scmapCell_clusters$scmap_cluster_siml[,1],scmapCell_clusters$combined_labs)\n",
    "names(df_scmapCell_clusters) <- c(\"cellID\", \"annotation\",\"scmap_cluster_siml\",\"scmap_combined_labs\")\n",
    "\n",
    "fullpath_output <- \"../../data/demo_public/output/scmap_annotation.csv\"\n",
    "system.time(fwrite(df_scmapCell_clusters, fullpath_output))"
   ]
  },
  {
   "cell_type": "code",
   "execution_count": 12,
   "id": "c5dd3872",
   "metadata": {
    "execution": {
     "iopub.execute_input": "2022-12-31T15:02:31.241655Z",
     "iopub.status.busy": "2022-12-31T15:02:31.240468Z",
     "iopub.status.idle": "2022-12-31T15:02:31.276504Z",
     "shell.execute_reply": "2022-12-31T15:02:31.275316Z"
    },
    "vscode": {
     "languageId": "r"
    }
   },
   "outputs": [
    {
     "data": {
      "text/plain": [
       "R version 4.1.3 (2022-03-10)\n",
       "Platform: x86_64-conda-linux-gnu (64-bit)\n",
       "Running under: Debian GNU/Linux 10 (buster)\n",
       "\n",
       "Matrix products: default\n",
       "BLAS/LAPACK: /home/chiacmm/.conda/envs/findsyn/lib/libopenblasp-r0.3.21.so\n",
       "\n",
       "locale:\n",
       " [1] LC_CTYPE=en_US       LC_NUMERIC=C         LC_TIME=en_US       \n",
       " [4] LC_COLLATE=en_US     LC_MONETARY=en_US    LC_MESSAGES=en_US   \n",
       " [7] LC_PAPER=en_US       LC_NAME=C            LC_ADDRESS=C        \n",
       "[10] LC_TELEPHONE=C       LC_MEASUREMENT=en_US LC_IDENTIFICATION=C \n",
       "\n",
       "attached base packages:\n",
       "[1] tools     stats4    stats     graphics  grDevices utils     datasets \n",
       "[8] methods   base     \n",
       "\n",
       "other attached packages:\n",
       " [1] data.table_1.14.6           scran_1.22.1               \n",
       " [3] scuttle_1.4.0               scmap_1.16.0               \n",
       " [5] SingleCellExperiment_1.16.0 SummarizedExperiment_1.24.0\n",
       " [7] Biobase_2.54.0              GenomicRanges_1.46.1       \n",
       " [9] GenomeInfoDb_1.30.1         IRanges_2.28.0             \n",
       "[11] S4Vectors_0.32.4            BiocGenerics_0.40.0        \n",
       "[13] MatrixGenerics_1.6.0        matrixStats_0.63.0         \n",
       "\n",
       "loaded via a namespace (and not attached):\n",
       " [1] edgeR_3.36.0              BiocSingular_1.10.0      \n",
       " [3] jsonlite_1.8.4            DelayedMatrixStats_1.16.0\n",
       " [5] statmod_1.4.37            dqrng_0.3.0              \n",
       " [7] GenomeInfoDbData_1.2.7    pillar_1.8.1             \n",
       " [9] lattice_0.20-45           glue_1.6.2               \n",
       "[11] limma_3.50.3              beachmat_2.10.0          \n",
       "[13] uuid_1.1-0                digest_0.6.31            \n",
       "[15] XVector_0.34.0            randomForest_4.7-1.1     \n",
       "[17] colorspace_2.0-3          htmltools_0.5.4          \n",
       "[19] Matrix_1.5-3              plyr_1.8.8               \n",
       "[21] pkgconfig_2.0.3           zlibbioc_1.40.0          \n",
       "[23] scales_1.2.1              ScaledMatrix_1.2.0       \n",
       "[25] BiocParallel_1.28.3       tibble_3.1.8             \n",
       "[27] proxy_0.4-27              generics_0.1.3           \n",
       "[29] ggplot2_3.4.0             repr_1.1.4               \n",
       "[31] cli_3.5.0                 magrittr_2.0.3           \n",
       "[33] crayon_1.5.2              evaluate_0.18            \n",
       "[35] fansi_1.0.3               bluster_1.4.0            \n",
       "[37] class_7.3-20              lifecycle_1.0.3          \n",
       "[39] stringr_1.5.0             googleVis_0.7.0          \n",
       "[41] locfit_1.5-9.6            munsell_0.5.0            \n",
       "[43] cluster_2.1.4             DelayedArray_0.20.0      \n",
       "[45] irlba_2.3.5.1             compiler_4.1.3           \n",
       "[47] e1071_1.7-12              rsvd_1.0.5               \n",
       "[49] rlang_1.0.6               grid_4.1.3               \n",
       "[51] RCurl_1.98-1.9            pbdZMQ_0.3-8             \n",
       "[53] IRkernel_1.3.1            BiocNeighbors_1.12.0     \n",
       "[55] igraph_1.3.5              bitops_1.0-7             \n",
       "[57] base64enc_0.1-3           gtable_0.3.1             \n",
       "[59] codetools_0.2-18          reshape2_1.4.4           \n",
       "[61] R6_2.5.1                  dplyr_1.0.10             \n",
       "[63] fastmap_1.1.0             utf8_1.2.2               \n",
       "[65] metapod_1.2.0             stringi_1.7.8            \n",
       "[67] parallel_4.1.3            IRdisplay_1.1            \n",
       "[69] Rcpp_1.0.9                vctrs_0.5.1              \n",
       "[71] tidyselect_1.2.0          sparseMatrixStats_1.6.0  "
      ]
     },
     "metadata": {},
     "output_type": "display_data"
    }
   ],
   "source": [
    "sessionInfo()"
   ]
  },
  {
   "attachments": {},
   "cell_type": "markdown",
   "id": "1bef8379",
   "metadata": {},
   "source": [
    "##### Reference\n",
    "1. Chia, C. M., Roig Adam, A., & Moro, A. (2022). *In silico* multiple single-subject neural tissue screening using deconvolution on pseudo-bulk RNA-seq - a prototype. Bioinformatics and Systems Biology joint degree program. Vrije Universiteit Amsterdam and University of Amsterdam. \n",
    "\n",
    "2. Allen Institute for Brain Science (2004). Allen Mouse Brain Atlas, Mouse Whole Cortex and Hippocampus 10x. Available from mouse.brain-map.org. Allen Institute for Brain Science (2011).\n",
    "\n",
    "3. Kiselev, V. Y., Yiu, A., & Hemberg, M. (2018). scmap: projection of single-cell RNA-seq data across data sets. Nature methods, 15(5), 359–362. https://doi.org/10.1038/nmeth.4644"
   ]
  }
 ],
 "metadata": {
  "kernelspec": {
   "display_name": "R",
   "language": "R",
   "name": "ir"
  },
  "language_info": {
   "codemirror_mode": "r",
   "file_extension": ".r",
   "mimetype": "text/x-r-source",
   "name": "R",
   "pygments_lexer": "r",
   "version": "4.1.3"
  }
 },
 "nbformat": 4,
 "nbformat_minor": 5
}
