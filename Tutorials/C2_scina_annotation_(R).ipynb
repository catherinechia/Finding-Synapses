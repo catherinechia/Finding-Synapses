{
 "cells": [
  {
   "attachments": {},
   "cell_type": "markdown",
   "id": "d0f2dfb2",
   "metadata": {},
   "source": [
    "### Overview\n",
    "This notebook imports the extracted data from the unannotated scRNA-seq (publicly available dataset [2]) and reference to perform single-cell annotation using SCINA [3].\n",
    "\n",
    "This annotation method is particularly useful when there is no annotated scRNA-seq available as reference. \n",
    "\n",
    "**This notebook is written in R.**"
   ]
  },
  {
   "cell_type": "code",
   "execution_count": null,
   "id": "d02e0f7b",
   "metadata": {
    "execution": {
     "iopub.execute_input": "2022-12-31T14:58:42.854092Z",
     "iopub.status.busy": "2022-12-31T14:58:42.852798Z",
     "iopub.status.idle": "2022-12-31T14:58:42.889812Z",
     "shell.execute_reply": "2022-12-31T14:58:42.890831Z"
    },
    "vscode": {
     "languageId": "r"
    }
   },
   "outputs": [],
   "source": [
    ".libPaths('/home/chiacmm/rpackages')"
   ]
  },
  {
   "cell_type": "code",
   "execution_count": null,
   "id": "213df240",
   "metadata": {
    "execution": {
     "iopub.execute_input": "2022-12-31T14:58:42.917854Z",
     "iopub.status.busy": "2022-12-31T14:58:42.895304Z",
     "iopub.status.idle": "2022-12-31T14:58:43.019366Z",
     "shell.execute_reply": "2022-12-31T14:58:43.018124Z"
    },
    "vscode": {
     "languageId": "r"
    }
   },
   "outputs": [],
   "source": [
    "#Libraries and global setting\n",
    "library(SCINA)\n",
    "library(stringr)\n",
    "library(base) #it failed without loading base once on rpy2env\n",
    "library(tools)"
   ]
  },
  {
   "attachments": {},
   "cell_type": "markdown",
   "id": "f4275c1f",
   "metadata": {},
   "source": [
    "### Steps performed\n",
    "\n",
    "1. Import the query data (unannotated scRNA-seq)\n",
    "\n",
    "2. Import the filtered marker genes data (to be used in annotating the query data)\n",
    "\n",
    "3. Run SCINA\n",
    "\n",
    "4. Export results"
   ]
  },
  {
   "attachments": {},
   "cell_type": "markdown",
   "id": "585fda82",
   "metadata": {},
   "source": [
    "#### Import the query data (unannotated scRNA-seq)"
   ]
  },
  {
   "cell_type": "code",
   "execution_count": 3,
   "id": "7a3eb183",
   "metadata": {
    "execution": {
     "iopub.execute_input": "2022-12-31T14:58:43.024611Z",
     "iopub.status.busy": "2022-12-31T14:58:43.023431Z",
     "iopub.status.idle": "2022-12-31T14:59:13.971173Z",
     "shell.execute_reply": "2022-12-31T14:59:13.969897Z"
    },
    "vscode": {
     "languageId": "r"
    }
   },
   "outputs": [],
   "source": [
    "#Import query data\n",
    "fullpath_input_geneexpr <- \"../../data/demo_public/output/scina_que_exprs.csv\"\n",
    "\n",
    "#Read expression matrix\n",
    "df_geneexprs <- read.csv(fullpath_input_geneexpr, row.names=1, stringsAsFactors = F)"
   ]
  },
  {
   "attachments": {},
   "cell_type": "markdown",
   "id": "12a901ec",
   "metadata": {},
   "source": [
    "#### Import the filtered marker genes data"
   ]
  },
  {
   "cell_type": "code",
   "execution_count": 4,
   "id": "0e1ed576",
   "metadata": {
    "execution": {
     "iopub.execute_input": "2022-12-31T14:59:13.976361Z",
     "iopub.status.busy": "2022-12-31T14:59:13.975263Z",
     "iopub.status.idle": "2022-12-31T14:59:13.991935Z",
     "shell.execute_reply": "2022-12-31T14:59:13.990868Z"
    },
    "vscode": {
     "languageId": "r"
    }
   },
   "outputs": [
    {
     "data": {
      "text/html": [
       "<dl>\n",
       "\t<dt>$Glutamatergic</dt>\n",
       "\t\t<dd><style>\n",
       ".list-inline {list-style: none; margin:0; padding: 0}\n",
       ".list-inline>li {display: inline-block}\n",
       ".list-inline>li:not(:last-child)::after {content: \"\\00b7\"; padding: 0 .5ex}\n",
       "</style>\n",
       "<ol class=list-inline><li>'Grin1'</li><li>'Gls'</li></ol>\n",
       "</dd>\n",
       "\t<dt>$Gabaergic</dt>\n",
       "\t\t<dd><style>\n",
       ".list-inline {list-style: none; margin:0; padding: 0}\n",
       ".list-inline>li {display: inline-block}\n",
       ".list-inline>li:not(:last-child)::after {content: \"\\00b7\"; padding: 0 .5ex}\n",
       "</style>\n",
       "<ol class=list-inline><li>'Gad1'</li><li>'Pax2'</li><li>'Mybpc1'</li><li>'Parm1'</li><li>'Dlx1'</li></ol>\n",
       "</dd>\n",
       "\t<dt>$Non.Neuronal</dt>\n",
       "\t\t<dd><style>\n",
       ".list-inline {list-style: none; margin:0; padding: 0}\n",
       ".list-inline>li {display: inline-block}\n",
       ".list-inline>li:not(:last-child)::after {content: \"\\00b7\"; padding: 0 .5ex}\n",
       "</style>\n",
       "<ol class=list-inline><li>'Glul'</li><li>'Mt1'</li><li>'Gng5'</li><li>'Plekhg1'</li><li>'Kcnj10'</li><li>'Nfia'</li><li>'Apoe'</li><li>'Car2'</li><li>'Maml2'</li><li>'Olig1'</li><li>'Plpp3'</li><li>'Daam2'</li><li>'Cdh20'</li><li>'Clmn'</li><li>'Clic4'</li><li>'Dock10'</li><li>'Cnp'</li><li>'Pllp'</li><li>'Dbi'</li><li>'Erbin'</li><li>'Gab1'</li><li>'Scd2'</li><li>'Cdh19'</li><li>'Sox10'</li><li>'Luzp2'</li><li>'Gjc3'</li><li>'Plcl1'</li><li>'Rab31'</li><li>'Sash1'</li><li>'Ptprz1'</li><li>'Tspan2'</li><li>'Mal'</li><li>'Ttyh2'</li><li>'Plp1'</li><li>'Bcas1'</li><li>'Ndrg1'</li><li>'Cldn11'</li><li>'Mertk'</li><li>'St18'</li><li>'Cst3'</li><li>'Plekhb1'</li><li>'Erbb4'</li><li>'Mag'</li><li>'Tns3'</li><li>'Gltp'</li><li>'Mog'</li><li>'Mt2'</li><li>'Neat1'</li><li>'Cd81'</li><li>'Cryab'</li><li>'Epas1'</li><li>'Phldb1'</li><li>'Ermn'</li><li>'Bcan'</li><li>'Megf10'</li><li>'Gng11'</li><li>'Zfp536'</li><li>'Wscd1'</li><li>'Arhgap31'</li><li>'Creb5'</li><li>'Gpc5'</li><li>'Mobp'</li><li>'Prex2'</li><li>'Cobll1'</li><li>'Timp3'</li><li>'Sox6'</li><li>'Carhsp1'</li><li>'Grb14'</li><li>'Gng12'</li><li>'Aspa'</li><li>'Phka1'</li></ol>\n",
       "</dd>\n",
       "</dl>\n"
      ],
      "text/latex": [
       "\\begin{description}\n",
       "\\item[\\$Glutamatergic] \\begin{enumerate*}\n",
       "\\item 'Grin1'\n",
       "\\item 'Gls'\n",
       "\\end{enumerate*}\n",
       "\n",
       "\\item[\\$Gabaergic] \\begin{enumerate*}\n",
       "\\item 'Gad1'\n",
       "\\item 'Pax2'\n",
       "\\item 'Mybpc1'\n",
       "\\item 'Parm1'\n",
       "\\item 'Dlx1'\n",
       "\\end{enumerate*}\n",
       "\n",
       "\\item[\\$Non.Neuronal] \\begin{enumerate*}\n",
       "\\item 'Glul'\n",
       "\\item 'Mt1'\n",
       "\\item 'Gng5'\n",
       "\\item 'Plekhg1'\n",
       "\\item 'Kcnj10'\n",
       "\\item 'Nfia'\n",
       "\\item 'Apoe'\n",
       "\\item 'Car2'\n",
       "\\item 'Maml2'\n",
       "\\item 'Olig1'\n",
       "\\item 'Plpp3'\n",
       "\\item 'Daam2'\n",
       "\\item 'Cdh20'\n",
       "\\item 'Clmn'\n",
       "\\item 'Clic4'\n",
       "\\item 'Dock10'\n",
       "\\item 'Cnp'\n",
       "\\item 'Pllp'\n",
       "\\item 'Dbi'\n",
       "\\item 'Erbin'\n",
       "\\item 'Gab1'\n",
       "\\item 'Scd2'\n",
       "\\item 'Cdh19'\n",
       "\\item 'Sox10'\n",
       "\\item 'Luzp2'\n",
       "\\item 'Gjc3'\n",
       "\\item 'Plcl1'\n",
       "\\item 'Rab31'\n",
       "\\item 'Sash1'\n",
       "\\item 'Ptprz1'\n",
       "\\item 'Tspan2'\n",
       "\\item 'Mal'\n",
       "\\item 'Ttyh2'\n",
       "\\item 'Plp1'\n",
       "\\item 'Bcas1'\n",
       "\\item 'Ndrg1'\n",
       "\\item 'Cldn11'\n",
       "\\item 'Mertk'\n",
       "\\item 'St18'\n",
       "\\item 'Cst3'\n",
       "\\item 'Plekhb1'\n",
       "\\item 'Erbb4'\n",
       "\\item 'Mag'\n",
       "\\item 'Tns3'\n",
       "\\item 'Gltp'\n",
       "\\item 'Mog'\n",
       "\\item 'Mt2'\n",
       "\\item 'Neat1'\n",
       "\\item 'Cd81'\n",
       "\\item 'Cryab'\n",
       "\\item 'Epas1'\n",
       "\\item 'Phldb1'\n",
       "\\item 'Ermn'\n",
       "\\item 'Bcan'\n",
       "\\item 'Megf10'\n",
       "\\item 'Gng11'\n",
       "\\item 'Zfp536'\n",
       "\\item 'Wscd1'\n",
       "\\item 'Arhgap31'\n",
       "\\item 'Creb5'\n",
       "\\item 'Gpc5'\n",
       "\\item 'Mobp'\n",
       "\\item 'Prex2'\n",
       "\\item 'Cobll1'\n",
       "\\item 'Timp3'\n",
       "\\item 'Sox6'\n",
       "\\item 'Carhsp1'\n",
       "\\item 'Grb14'\n",
       "\\item 'Gng12'\n",
       "\\item 'Aspa'\n",
       "\\item 'Phka1'\n",
       "\\end{enumerate*}\n",
       "\n",
       "\\end{description}\n"
      ],
      "text/markdown": [
       "$Glutamatergic\n",
       ":   1. 'Grin1'\n",
       "2. 'Gls'\n",
       "\n",
       "\n",
       "\n",
       "$Gabaergic\n",
       ":   1. 'Gad1'\n",
       "2. 'Pax2'\n",
       "3. 'Mybpc1'\n",
       "4. 'Parm1'\n",
       "5. 'Dlx1'\n",
       "\n",
       "\n",
       "\n",
       "$Non.Neuronal\n",
       ":   1. 'Glul'\n",
       "2. 'Mt1'\n",
       "3. 'Gng5'\n",
       "4. 'Plekhg1'\n",
       "5. 'Kcnj10'\n",
       "6. 'Nfia'\n",
       "7. 'Apoe'\n",
       "8. 'Car2'\n",
       "9. 'Maml2'\n",
       "10. 'Olig1'\n",
       "11. 'Plpp3'\n",
       "12. 'Daam2'\n",
       "13. 'Cdh20'\n",
       "14. 'Clmn'\n",
       "15. 'Clic4'\n",
       "16. 'Dock10'\n",
       "17. 'Cnp'\n",
       "18. 'Pllp'\n",
       "19. 'Dbi'\n",
       "20. 'Erbin'\n",
       "21. 'Gab1'\n",
       "22. 'Scd2'\n",
       "23. 'Cdh19'\n",
       "24. 'Sox10'\n",
       "25. 'Luzp2'\n",
       "26. 'Gjc3'\n",
       "27. 'Plcl1'\n",
       "28. 'Rab31'\n",
       "29. 'Sash1'\n",
       "30. 'Ptprz1'\n",
       "31. 'Tspan2'\n",
       "32. 'Mal'\n",
       "33. 'Ttyh2'\n",
       "34. 'Plp1'\n",
       "35. 'Bcas1'\n",
       "36. 'Ndrg1'\n",
       "37. 'Cldn11'\n",
       "38. 'Mertk'\n",
       "39. 'St18'\n",
       "40. 'Cst3'\n",
       "41. 'Plekhb1'\n",
       "42. 'Erbb4'\n",
       "43. 'Mag'\n",
       "44. 'Tns3'\n",
       "45. 'Gltp'\n",
       "46. 'Mog'\n",
       "47. 'Mt2'\n",
       "48. 'Neat1'\n",
       "49. 'Cd81'\n",
       "50. 'Cryab'\n",
       "51. 'Epas1'\n",
       "52. 'Phldb1'\n",
       "53. 'Ermn'\n",
       "54. 'Bcan'\n",
       "55. 'Megf10'\n",
       "56. 'Gng11'\n",
       "57. 'Zfp536'\n",
       "58. 'Wscd1'\n",
       "59. 'Arhgap31'\n",
       "60. 'Creb5'\n",
       "61. 'Gpc5'\n",
       "62. 'Mobp'\n",
       "63. 'Prex2'\n",
       "64. 'Cobll1'\n",
       "65. 'Timp3'\n",
       "66. 'Sox6'\n",
       "67. 'Carhsp1'\n",
       "68. 'Grb14'\n",
       "69. 'Gng12'\n",
       "70. 'Aspa'\n",
       "71. 'Phka1'\n",
       "\n",
       "\n",
       "\n",
       "\n",
       "\n"
      ],
      "text/plain": [
       "$Glutamatergic\n",
       "[1] \"Grin1\" \"Gls\"  \n",
       "\n",
       "$Gabaergic\n",
       "[1] \"Gad1\"   \"Pax2\"   \"Mybpc1\" \"Parm1\"  \"Dlx1\"  \n",
       "\n",
       "$Non.Neuronal\n",
       " [1] \"Glul\"     \"Mt1\"      \"Gng5\"     \"Plekhg1\"  \"Kcnj10\"   \"Nfia\"    \n",
       " [7] \"Apoe\"     \"Car2\"     \"Maml2\"    \"Olig1\"    \"Plpp3\"    \"Daam2\"   \n",
       "[13] \"Cdh20\"    \"Clmn\"     \"Clic4\"    \"Dock10\"   \"Cnp\"      \"Pllp\"    \n",
       "[19] \"Dbi\"      \"Erbin\"    \"Gab1\"     \"Scd2\"     \"Cdh19\"    \"Sox10\"   \n",
       "[25] \"Luzp2\"    \"Gjc3\"     \"Plcl1\"    \"Rab31\"    \"Sash1\"    \"Ptprz1\"  \n",
       "[31] \"Tspan2\"   \"Mal\"      \"Ttyh2\"    \"Plp1\"     \"Bcas1\"    \"Ndrg1\"   \n",
       "[37] \"Cldn11\"   \"Mertk\"    \"St18\"     \"Cst3\"     \"Plekhb1\"  \"Erbb4\"   \n",
       "[43] \"Mag\"      \"Tns3\"     \"Gltp\"     \"Mog\"      \"Mt2\"      \"Neat1\"   \n",
       "[49] \"Cd81\"     \"Cryab\"    \"Epas1\"    \"Phldb1\"   \"Ermn\"     \"Bcan\"    \n",
       "[55] \"Megf10\"   \"Gng11\"    \"Zfp536\"   \"Wscd1\"    \"Arhgap31\" \"Creb5\"   \n",
       "[61] \"Gpc5\"     \"Mobp\"     \"Prex2\"    \"Cobll1\"   \"Timp3\"    \"Sox6\"    \n",
       "[67] \"Carhsp1\"  \"Grb14\"    \"Gng12\"    \"Aspa\"     \"Phka1\"   \n"
      ]
     },
     "metadata": {},
     "output_type": "display_data"
    }
   ],
   "source": [
    "#Import marker genes \n",
    "fullpath_input_markergenes <- \"../../data/demo_public/output/scina_filtered_markergenes.csv\"\n",
    "\n",
    "#Read and preprocess marker genes using SCINA function\n",
    "df_markergenes <- preprocess.signatures(fullpath_input_markergenes)\n",
    "df_markergenes"
   ]
  },
  {
   "attachments": {},
   "cell_type": "markdown",
   "id": "cb2b1e71",
   "metadata": {},
   "source": [
    "#### SCINA begins"
   ]
  },
  {
   "cell_type": "code",
   "execution_count": 5,
   "id": "ddf2e8c1",
   "metadata": {
    "execution": {
     "iopub.execute_input": "2022-12-31T14:59:13.996663Z",
     "iopub.status.busy": "2022-12-31T14:59:13.995827Z",
     "iopub.status.idle": "2022-12-31T14:59:16.987071Z",
     "shell.execute_reply": "2022-12-31T14:59:16.985988Z"
    },
    "vscode": {
     "languageId": "r"
    }
   },
   "outputs": [
    {
     "data": {
      "text/plain": [
       "   user  system elapsed \n",
       " 16.144  14.671   2.932 "
      ]
     },
     "metadata": {},
     "output_type": "display_data"
    }
   ],
   "source": [
    "#Run SCINA\n",
    "system.time(res_scina <- SCINA(df_geneexprs, df_markergenes, max_iter = 1000, convergence_n = 10, convergence_rate = 0.999, sensitivity_cutoff = 0.9, rm_overlap=TRUE, allow_unknown=TRUE, log_file='SCINA.log'))"
   ]
  },
  {
   "attachments": {},
   "cell_type": "markdown",
   "id": "f1e6492a",
   "metadata": {},
   "source": [
    "#### Export results"
   ]
  },
  {
   "cell_type": "code",
   "execution_count": 6,
   "id": "ed45a9dd",
   "metadata": {
    "execution": {
     "iopub.execute_input": "2022-12-31T14:59:16.992169Z",
     "iopub.status.busy": "2022-12-31T14:59:16.990251Z",
     "iopub.status.idle": "2022-12-31T14:59:17.098596Z",
     "shell.execute_reply": "2022-12-31T14:59:17.097830Z"
    },
    "vscode": {
     "languageId": "r"
    }
   },
   "outputs": [
    {
     "data": {
      "text/plain": [
       "   user  system elapsed \n",
       "  0.013   0.001   0.016 "
      ]
     },
     "metadata": {},
     "output_type": "display_data"
    }
   ],
   "source": [
    "# Write data\n",
    "#convert list of lists to data frame\n",
    "l_cellID = colnames(df_geneexprs)\n",
    "l_cell_type = as.list(res_scina$cell_labels)\n",
    "l_celltype_probability = head(res_scina$probabilities,1)\n",
    "\n",
    "#Strip attributes\n",
    "l_celltype_probability[] <- lapply(l_celltype_probability, function(x) { attributes(x) <- NULL; x })\n",
    "\n",
    "#Create result dataframe\n",
    "df_res_scina <- data.frame(l_cellID, unlist(l_cell_type), unlist(l_celltype_probability))\n",
    "names(df_res_scina) <- c(\"cellID\", \"annotation\",\"scina_probability\")\n",
    "\n",
    "#Output data\n",
    "fullpath_output_scina <- \"../../data/demo_public/output/scina_annotation.csv\"\n",
    "system.time(write.csv(df_res_scina, fullpath_output_scina))"
   ]
  },
  {
   "cell_type": "code",
   "execution_count": 7,
   "id": "315c1a43",
   "metadata": {
    "execution": {
     "iopub.execute_input": "2022-12-31T14:59:17.103353Z",
     "iopub.status.busy": "2022-12-31T14:59:17.102027Z",
     "iopub.status.idle": "2022-12-31T14:59:17.156176Z",
     "shell.execute_reply": "2022-12-31T14:59:17.155003Z"
    },
    "vscode": {
     "languageId": "r"
    }
   },
   "outputs": [
    {
     "data": {
      "text/plain": [
       "R version 4.1.3 (2022-03-10)\n",
       "Platform: x86_64-conda-linux-gnu (64-bit)\n",
       "Running under: Debian GNU/Linux 10 (buster)\n",
       "\n",
       "Matrix products: default\n",
       "BLAS/LAPACK: /home/chiacmm/.conda/envs/findsyn/lib/libopenblasp-r0.3.21.so\n",
       "\n",
       "locale:\n",
       " [1] LC_CTYPE=en_US       LC_NUMERIC=C         LC_TIME=en_US       \n",
       " [4] LC_COLLATE=en_US     LC_MONETARY=en_US    LC_MESSAGES=en_US   \n",
       " [7] LC_PAPER=en_US       LC_NAME=C            LC_ADDRESS=C        \n",
       "[10] LC_TELEPHONE=C       LC_MEASUREMENT=en_US LC_IDENTIFICATION=C \n",
       "\n",
       "attached base packages:\n",
       "[1] tools     stats     graphics  grDevices utils     datasets  methods  \n",
       "[8] base     \n",
       "\n",
       "other attached packages:\n",
       "[1] stringr_1.5.0 SCINA_1.2.0   gplots_3.1.3  MASS_7.3-58.1\n",
       "\n",
       "loaded via a namespace (and not attached):\n",
       " [1] magrittr_2.0.3     uuid_1.1-0         rlang_1.0.6        fastmap_1.1.0     \n",
       " [5] fansi_1.0.3        caTools_1.18.2     KernSmooth_2.23-20 utf8_1.2.2        \n",
       " [9] cli_3.5.0          htmltools_0.5.4    gtools_3.9.4       digest_0.6.31     \n",
       "[13] lifecycle_1.0.3    crayon_1.5.2       IRdisplay_1.1      repr_1.1.4        \n",
       "[17] base64enc_0.1-3    vctrs_0.5.1        bitops_1.0-7       IRkernel_1.3.1    \n",
       "[21] glue_1.6.2         evaluate_0.18      stringi_1.7.8      pbdZMQ_0.3-8      \n",
       "[25] compiler_4.1.3     pillar_1.8.1       jsonlite_1.8.4    "
      ]
     },
     "metadata": {},
     "output_type": "display_data"
    }
   ],
   "source": [
    "sessionInfo()"
   ]
  },
  {
   "attachments": {},
   "cell_type": "markdown",
   "id": "75bc50fd",
   "metadata": {},
   "source": [
    "##### Reference\n",
    "1. Chia, C. M., Roig Adam, A., & Moro, A. (2022). *In silico* multiple single-subject neural tissue screening using deconvolution on pseudo-bulk RNA-seq - a prototype. Bioinformatics and Systems Biology joint degree program. Vrije Universiteit Amsterdam and University of Amsterdam. \n",
    "\n",
    "2. Allen Institute for Brain Science (2004). Allen Mouse Brain Atlas, Mouse Whole Cortex and Hippocampus 10x. Available from mouse.brain-map.org. Allen Institute for Brain Science (2011).\n",
    "\n",
    "3. Zhang, Z., Luo, D., Zhong, X., Choi, J. H., Ma, Y., Wang, S., Mahrt, E., Guo, W., Stawiski, E. W., Modrusan, Z., Seshagiri, S., Kapur, P., Hon, G. C., Brugarolas, J., & Wang, T. (2019). SCINA: A Semi-Supervised Subtyping Algorithm of Single Cells and Bulk Samples. Genes, 10(7), 531. https://doi.org/10.3390/genes10070531"
   ]
  }
 ],
 "metadata": {
  "kernelspec": {
   "display_name": "R",
   "language": "R",
   "name": "ir"
  },
  "language_info": {
   "codemirror_mode": "r",
   "file_extension": ".r",
   "mimetype": "text/x-r-source",
   "name": "R",
   "pygments_lexer": "r",
   "version": "4.1.3"
  }
 },
 "nbformat": 4,
 "nbformat_minor": 5
}
